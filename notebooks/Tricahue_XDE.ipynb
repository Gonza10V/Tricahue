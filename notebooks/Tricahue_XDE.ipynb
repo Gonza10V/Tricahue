{
 "cells": [
  {
   "cell_type": "code",
   "execution_count": null,
   "metadata": {},
   "outputs": [],
   "source": [
    "import tricahue\n",
    "import pandas as pd"
   ]
  },
  {
   "cell_type": "markdown",
   "metadata": {},
   "source": [
    "# XDE Test"
   ]
  },
  {
   "cell_type": "code",
   "execution_count": null,
   "metadata": {},
   "outputs": [],
   "source": [
    "files = [\"../tests/test_files/ExpNOTs_GFP.xlsx\", \"../tests/test_files/ExpNOTs_GFP_trans.xlsx\", \"../tests/test_files/ExpNOTs_OD.xlsx\"]\n",
    "sheet_name = \"Table All Cycles\"\n",
    "time_col_name = \"Time\"\n",
    "data_cols_offset = 2\n",
    "\n",
    "XDC_file_name = \"../tests/test_files/xperimental_data_connector_template.xlsx\""
   ]
  },
  {
   "cell_type": "code",
   "execution_count": null,
   "metadata": {},
   "outputs": [],
   "source": [
    "# initialize\n",
    "xde = tricahue.XDE()"
   ]
  },
  {
   "cell_type": "code",
   "execution_count": null,
   "metadata": {},
   "outputs": [],
   "source": [
    "# get sample data from files\n",
    "sample_list = xde.generateSampleData(files, sheet_name, time_col_name, data_cols_offset)\n",
    "print(sample_list)"
   ]
  },
  {
   "cell_type": "code",
   "execution_count": null,
   "metadata": {},
   "outputs": [],
   "source": [
    "# build pandas DataFrame from the sample data\n",
    "output_df = xde.buildFinalDF(files,\n",
    "                             sample_list, \n",
    "                             time_col_name, \n",
    "                             data_cols_offset, \n",
    "                             num_rows_btwn_data=0, \n",
    "                             sheet_to_read_from=sheet_name)\n",
    "print(output_df.head())"
   ]
  },
  {
   "cell_type": "code",
   "execution_count": null,
   "metadata": {},
   "outputs": [],
   "source": [
    "# write the DataFrame to the XDC file in the 'Measurement' sheet\n",
    "xde.writeToMeasurements(XDC_file_name, output_df)"
   ]
  },
  {
   "cell_type": "code",
   "execution_count": null,
   "metadata": {},
   "outputs": [],
   "source": [
    "# for testing; read the 'Measurement' sheet from the XDC excel file\n",
    "xls = pd.ExcelFile(XDC_file_name)\n",
    "measurement = pd.read_excel(xls, 'Measurement')\n",
    "measurement.head()"
   ]
  },
  {
   "cell_type": "markdown",
   "metadata": {},
   "source": [
    "# End"
   ]
  }
 ],
 "metadata": {
  "kernelspec": {
   "display_name": ".venv",
   "language": "python",
   "name": "python3"
  },
  "language_info": {
   "codemirror_mode": {
    "name": "ipython",
    "version": 3
   },
   "file_extension": ".py",
   "mimetype": "text/x-python",
   "name": "python",
   "nbconvert_exporter": "python",
   "pygments_lexer": "ipython3",
   "version": "3.9.13"
  }
 },
 "nbformat": 4,
 "nbformat_minor": 2
}
