{
 "cells": [
  {
   "cell_type": "code",
   "execution_count": 21,
   "metadata": {},
   "outputs": [],
   "source": [
    "import tricahue\n",
    "import pandas as pd"
   ]
  },
  {
   "cell_type": "markdown",
   "metadata": {},
   "source": [
    "# XDE Test"
   ]
  },
  {
   "cell_type": "code",
   "execution_count": 22,
   "metadata": {},
   "outputs": [],
   "source": [
    "files = [\"C:/Users/smf12/SPUR/Tricahue/tests/test_files/ExpNOTs_GFP.xlsx\", \"C:/Users/smf12/SPUR/Tricahue/tests/test_files/ExpNOTs_GFP_trans.xlsx\"]\n",
    "sheet_name = \"Table All Cycles\"\n",
    "time_col_name = \"Time\"\n",
    "data_cols_offset = 11\n",
    "\n",
    "XDC_file_name = \"C:/Users/smf12/SPUR/Tricahue/tests/test_files/xperimental_data_connector_template.xlsx\""
   ]
  },
  {
   "cell_type": "code",
   "execution_count": 23,
   "metadata": {},
   "outputs": [],
   "source": [
    "# initialize\n",
    "xde = tricahue.XDE()"
   ]
  },
  {
   "cell_type": "code",
   "execution_count": 24,
   "metadata": {},
   "outputs": [],
   "source": [
    "sample_list = xde.generateSampleData(files, sheet_name, time_col_name, data_cols_offset)\n",
    "# sample_list"
   ]
  },
  {
   "cell_type": "code",
   "execution_count": 25,
   "metadata": {},
   "outputs": [
    {
     "name": "stdout",
     "output_type": "stream",
     "text": [
      "['C:/Users/smf12/SPUR/Tricahue/tests/test_files/ExpNOTs_GFP.xlsx', 'C:/Users/smf12/SPUR/Tricahue/tests/test_files/ExpNOTs_GFP_trans.xlsx']\n"
     ]
    }
   ],
   "source": [
    "output_df = xde.buildFinalDF(files,\n",
    "                             sample_list, \n",
    "                             time_col_name, \n",
    "                             data_cols_offset, \n",
    "                             num_rows_btwn_data=0, \n",
    "                             sheet_to_read_from=sheet_name)\n",
    "# output_df.head()"
   ]
  },
  {
   "cell_type": "code",
   "execution_count": 26,
   "metadata": {},
   "outputs": [],
   "source": [
    "xde.writeToMeasurements(XDC_file_name, output_df)"
   ]
  },
  {
   "cell_type": "code",
   "execution_count": 27,
   "metadata": {},
   "outputs": [
    {
     "data": {
      "text/html": [
       "<div>\n",
       "<style scoped>\n",
       "    .dataframe tbody tr th:only-of-type {\n",
       "        vertical-align: middle;\n",
       "    }\n",
       "\n",
       "    .dataframe tbody tr th {\n",
       "        vertical-align: top;\n",
       "    }\n",
       "\n",
       "    .dataframe thead th {\n",
       "        text-align: right;\n",
       "    }\n",
       "</style>\n",
       "<table border=\"1\" class=\"dataframe\">\n",
       "  <thead>\n",
       "    <tr style=\"text-align: right;\">\n",
       "      <th></th>\n",
       "      <th>Measurement ID</th>\n",
       "      <th>Sample ID</th>\n",
       "      <th>Signal ID</th>\n",
       "      <th>Time</th>\n",
       "      <th>Value</th>\n",
       "    </tr>\n",
       "  </thead>\n",
       "  <tbody>\n",
       "    <tr>\n",
       "      <th>0</th>\n",
       "      <td>Measurement0</td>\n",
       "      <td>Sample1</td>\n",
       "      <td>Signal1</td>\n",
       "      <td>0 h</td>\n",
       "      <td>740</td>\n",
       "    </tr>\n",
       "    <tr>\n",
       "      <th>1</th>\n",
       "      <td>Measurement1</td>\n",
       "      <td>Sample1</td>\n",
       "      <td>Signal1</td>\n",
       "      <td>0 h 4 min</td>\n",
       "      <td>754</td>\n",
       "    </tr>\n",
       "    <tr>\n",
       "      <th>2</th>\n",
       "      <td>Measurement2</td>\n",
       "      <td>Sample1</td>\n",
       "      <td>Signal1</td>\n",
       "      <td>0 h 8 min</td>\n",
       "      <td>770</td>\n",
       "    </tr>\n",
       "    <tr>\n",
       "      <th>3</th>\n",
       "      <td>Measurement3</td>\n",
       "      <td>Sample1</td>\n",
       "      <td>Signal1</td>\n",
       "      <td>0 h 12 min</td>\n",
       "      <td>773</td>\n",
       "    </tr>\n",
       "    <tr>\n",
       "      <th>4</th>\n",
       "      <td>Measurement4</td>\n",
       "      <td>Sample1</td>\n",
       "      <td>Signal1</td>\n",
       "      <td>0 h 16 min</td>\n",
       "      <td>777</td>\n",
       "    </tr>\n",
       "  </tbody>\n",
       "</table>\n",
       "</div>"
      ],
      "text/plain": [
       "  Measurement ID Sample ID Signal ID        Time  Value\n",
       "0   Measurement0   Sample1   Signal1        0 h     740\n",
       "1   Measurement1   Sample1   Signal1   0 h 4 min    754\n",
       "2   Measurement2   Sample1   Signal1   0 h 8 min    770\n",
       "3   Measurement3   Sample1   Signal1  0 h 12 min    773\n",
       "4   Measurement4   Sample1   Signal1  0 h 16 min    777"
      ]
     },
     "execution_count": 27,
     "metadata": {},
     "output_type": "execute_result"
    }
   ],
   "source": [
    "xls = pd.ExcelFile(XDC_file_name)\n",
    "measurement = pd.read_excel(xls, 'Measurement')\n",
    "measurement.head()"
   ]
  },
  {
   "cell_type": "markdown",
   "metadata": {},
   "source": [
    "# End"
   ]
  }
 ],
 "metadata": {
  "kernelspec": {
   "display_name": ".venv",
   "language": "python",
   "name": "python3"
  },
  "language_info": {
   "codemirror_mode": {
    "name": "ipython",
    "version": 3
   },
   "file_extension": ".py",
   "mimetype": "text/x-python",
   "name": "python",
   "nbconvert_exporter": "python",
   "pygments_lexer": "ipython3",
   "version": "3.9.13"
  }
 },
 "nbformat": 4,
 "nbformat_minor": 2
}
