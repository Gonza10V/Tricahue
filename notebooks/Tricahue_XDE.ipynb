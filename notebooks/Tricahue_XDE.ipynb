{
 "cells": [
  {
   "cell_type": "code",
   "execution_count": 1,
   "metadata": {},
   "outputs": [],
   "source": [
    "import tricahue\n",
    "import pandas as pd"
   ]
  },
  {
   "cell_type": "markdown",
   "metadata": {},
   "source": [
    "# XDE Test"
   ]
  },
  {
   "cell_type": "code",
   "execution_count": 2,
   "metadata": {},
   "outputs": [],
   "source": [
    "files = [\"../tests/test_files/ExpNOTs_GFP.xlsx\", \"../tests/test_files/ExpNOTs_GFP_trans.xlsx\"]\n",
    "sheet_name = \"Table All Cycles\"\n",
    "time_col_name = \"Time\"\n",
    "data_cols_offset = 2\n",
    "\n",
    "XDC_file_name = \"../tests/test_files/xperimental_data_connector_template.xlsx\""
   ]
  },
  {
   "cell_type": "code",
   "execution_count": 3,
   "metadata": {},
   "outputs": [],
   "source": [
    "# initialize\n",
    "xde = tricahue.XDE()"
   ]
  },
  {
   "cell_type": "code",
   "execution_count": 4,
   "metadata": {},
   "outputs": [],
   "source": [
    "# get sample data from files\n",
    "sample_list = xde.generateSampleData(files, sheet_name, time_col_name, data_cols_offset)\n",
    "# print(sample_list)"
   ]
  },
  {
   "cell_type": "code",
   "execution_count": 5,
   "metadata": {},
   "outputs": [
    {
     "name": "stdout",
     "output_type": "stream",
     "text": [
      "['../tests/test_files/ExpNOTs_GFP.xlsx', '../tests/test_files/ExpNOTs_GFP_trans.xlsx']\n"
     ]
    }
   ],
   "source": [
    "# build pandas DataFrame from the sample data\n",
    "output_df = xde.buildFinalDF(files,\n",
    "                             sample_list, \n",
    "                             time_col_name, \n",
    "                             data_cols_offset, \n",
    "                             num_rows_btwn_data=0, \n",
    "                             sheet_to_read_from=sheet_name)\n",
    "# print(output_df.head())"
   ]
  },
  {
   "cell_type": "code",
   "execution_count": 6,
   "metadata": {},
   "outputs": [],
   "source": [
    "# write the DataFrame to the XDC file in the 'Measurement' sheet\n",
    "xde.writeToMeasurements(XDC_file_name, output_df)"
   ]
  },
  {
   "cell_type": "code",
   "execution_count": 7,
   "metadata": {},
   "outputs": [
    {
     "data": {
      "text/html": [
       "<div>\n",
       "<style scoped>\n",
       "    .dataframe tbody tr th:only-of-type {\n",
       "        vertical-align: middle;\n",
       "    }\n",
       "\n",
       "    .dataframe tbody tr th {\n",
       "        vertical-align: top;\n",
       "    }\n",
       "\n",
       "    .dataframe thead th {\n",
       "        text-align: right;\n",
       "    }\n",
       "</style>\n",
       "<table border=\"1\" class=\"dataframe\">\n",
       "  <thead>\n",
       "    <tr style=\"text-align: right;\">\n",
       "      <th></th>\n",
       "      <th>Measurement ID</th>\n",
       "      <th>Sample ID</th>\n",
       "      <th>Signal ID</th>\n",
       "      <th>Time</th>\n",
       "      <th>Value</th>\n",
       "    </tr>\n",
       "  </thead>\n",
       "  <tbody>\n",
       "    <tr>\n",
       "      <th>0</th>\n",
       "      <td>Measurement0</td>\n",
       "      <td>Sample1</td>\n",
       "      <td>Signal1</td>\n",
       "      <td>0 h</td>\n",
       "      <td>30</td>\n",
       "    </tr>\n",
       "    <tr>\n",
       "      <th>1</th>\n",
       "      <td>Measurement1</td>\n",
       "      <td>Sample1</td>\n",
       "      <td>Signal1</td>\n",
       "      <td>0 h 4 min</td>\n",
       "      <td>30</td>\n",
       "    </tr>\n",
       "    <tr>\n",
       "      <th>2</th>\n",
       "      <td>Measurement2</td>\n",
       "      <td>Sample1</td>\n",
       "      <td>Signal1</td>\n",
       "      <td>0 h 8 min</td>\n",
       "      <td>28</td>\n",
       "    </tr>\n",
       "    <tr>\n",
       "      <th>3</th>\n",
       "      <td>Measurement3</td>\n",
       "      <td>Sample1</td>\n",
       "      <td>Signal1</td>\n",
       "      <td>0 h 12 min</td>\n",
       "      <td>29</td>\n",
       "    </tr>\n",
       "    <tr>\n",
       "      <th>4</th>\n",
       "      <td>Measurement4</td>\n",
       "      <td>Sample1</td>\n",
       "      <td>Signal1</td>\n",
       "      <td>0 h 16 min</td>\n",
       "      <td>30</td>\n",
       "    </tr>\n",
       "  </tbody>\n",
       "</table>\n",
       "</div>"
      ],
      "text/plain": [
       "  Measurement ID Sample ID Signal ID        Time  Value\n",
       "0   Measurement0   Sample1   Signal1        0 h      30\n",
       "1   Measurement1   Sample1   Signal1   0 h 4 min     30\n",
       "2   Measurement2   Sample1   Signal1   0 h 8 min     28\n",
       "3   Measurement3   Sample1   Signal1  0 h 12 min     29\n",
       "4   Measurement4   Sample1   Signal1  0 h 16 min     30"
      ]
     },
     "execution_count": 7,
     "metadata": {},
     "output_type": "execute_result"
    }
   ],
   "source": [
    "# for testing; read the 'Measurement' sheet from the XDC excel file\n",
    "xls = pd.ExcelFile(XDC_file_name)\n",
    "measurement = pd.read_excel(xls, 'Measurement')\n",
    "measurement.head()"
   ]
  },
  {
   "cell_type": "markdown",
   "metadata": {},
   "source": [
    "# End"
   ]
  }
 ],
 "metadata": {
  "kernelspec": {
   "display_name": ".venv",
   "language": "python",
   "name": "python3"
  },
  "language_info": {
   "codemirror_mode": {
    "name": "ipython",
    "version": 3
   },
   "file_extension": ".py",
   "mimetype": "text/x-python",
   "name": "python",
   "nbconvert_exporter": "python",
   "pygments_lexer": "ipython3",
   "version": "3.9.13"
  }
 },
 "nbformat": 4,
 "nbformat_minor": 2
}
