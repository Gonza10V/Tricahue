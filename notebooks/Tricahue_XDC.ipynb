{
 "cells": [
  {
   "cell_type": "code",
   "execution_count": 1,
   "metadata": {},
   "outputs": [],
   "source": [
    "import os\n",
    "import getpass\n",
    "import tricahue"
   ]
  },
  {
   "cell_type": "code",
   "execution_count": 2,
   "metadata": {},
   "outputs": [
    {
     "name": "stdout",
     "output_type": "stream",
     "text": [
      "C:\\Users\\smf12\\SPUR\\Tricahue\\src\\tricahue.py\n"
     ]
    }
   ],
   "source": [
    "# pip install -e .\n",
    "print(tricahue.__file__)"
   ]
  },
  {
   "cell_type": "markdown",
   "metadata": {},
   "source": [
    "# XDC Test"
   ]
  },
  {
   "cell_type": "code",
   "execution_count": 3,
   "metadata": {},
   "outputs": [],
   "source": [
    "# fj_url = \"charmmefj-api.synbiohub.org\"\n",
    "fj_url = \"http://localhost:3000\"\n",
    "fj_user = input()\n",
    "fj_pass = getpass.getpass()"
   ]
  },
  {
   "cell_type": "code",
   "execution_count": 4,
   "metadata": {},
   "outputs": [],
   "source": [
    "sbh_url = \"https://synbiohub.org\"\n",
    "sbh_user = \"test@test.test\"\n",
    "sbh_pass = \"test123\"\n",
    "sbh_collec = \"XDC_package_test\""
   ]
  },
  {
   "cell_type": "code",
   "execution_count": 5,
   "metadata": {},
   "outputs": [],
   "source": [
    "test_file_path ='../tests/test_files'\n",
    "excel_path = os.path.join(test_file_path, 'Medias.xlsm')\n",
    "\n",
    "homespace = 'https://synbiohub.org/gonza10v'\n",
    "\n",
    "fj_overwrite = False\n",
    "sbh_overwrite=False"
   ]
  },
  {
   "cell_type": "code",
   "execution_count": 6,
   "metadata": {},
   "outputs": [],
   "source": [
    "# xdc = tricahue.XDC(input_excel_path = excel_path,\n",
    "#             fj_url = fj_url,\n",
    "#             fj_user = fj_user, \n",
    "#             fj_pass = fj_pass, \n",
    "#             sbh_url = sbh_url, \n",
    "#             sbh_user = sbh_user, \n",
    "#             sbh_pass = sbh_pass, \n",
    "#             sbh_collection = sbh_collec, \n",
    "#             sbh_collection_description = 'Collection made using tricahue',\n",
    "#             sbh_overwrite = sbh_overwrite, \n",
    "#             fj_overwrite = fj_overwrite, \n",
    "#             homespace = homespace,\n",
    "#             fj_token = None, \n",
    "#             sbh_token = None)\n",
    "\n",
    "\n",
    "xdc = tricahue.XDC(input_excel_path = excel_path,\n",
    "            fj_url = fj_url,\n",
    "            fj_user = fj_user, \n",
    "            fj_pass = fj_pass, \n",
    "            sbh_url = sbh_url, \n",
    "            sbh_user = None, \n",
    "            sbh_pass = None, \n",
    "            sbh_collection = sbh_collec, \n",
    "            sbh_collection_description = 'Collection made using tricahue',\n",
    "            sbh_overwrite = sbh_overwrite, \n",
    "            fj_overwrite = fj_overwrite, \n",
    "            homespace = homespace,\n",
    "            fj_token = None, \n",
    "            sbh_token = '803bb581-f309-4fa2-ba3e-a1daaa23faba')"
   ]
  },
  {
   "cell_type": "code",
   "execution_count": 7,
   "metadata": {},
   "outputs": [],
   "source": [
    "xdc.initialize()"
   ]
  },
  {
   "cell_type": "code",
   "execution_count": 8,
   "metadata": {},
   "outputs": [
    {
     "name": "stdout",
     "output_type": "stream",
     "text": [
      "None\n"
     ]
    }
   ],
   "source": [
    "print(xdc.fj_token)\n"
   ]
  },
  {
   "cell_type": "code",
   "execution_count": 9,
   "metadata": {},
   "outputs": [
    {
     "name": "stdout",
     "output_type": "stream",
     "text": [
      "No user logged in.\n",
      "Unable to authenticate into Flapjack\n"
     ]
    }
   ],
   "source": [
    "xdc.log_in_fj()"
   ]
  },
  {
   "cell_type": "code",
   "execution_count": 10,
   "metadata": {},
   "outputs": [
    {
     "name": "stdout",
     "output_type": "stream",
     "text": [
      "None\n"
     ]
    }
   ],
   "source": [
    "print(xdc.fj_token)"
   ]
  },
  {
   "cell_type": "code",
   "execution_count": 11,
   "metadata": {},
   "outputs": [],
   "source": [
    "xdc.log_in_sbh()"
   ]
  },
  {
   "cell_type": "code",
   "execution_count": 12,
   "metadata": {},
   "outputs": [
    {
     "data": {
      "text/plain": [
       "'803bb581-f309-4fa2-ba3e-a1daaa23faba'"
      ]
     },
     "execution_count": 12,
     "metadata": {},
     "output_type": "execute_result"
    }
   ],
   "source": [
    "xdc.sbh_token"
   ]
  },
  {
   "cell_type": "code",
   "execution_count": 13,
   "metadata": {},
   "outputs": [],
   "source": [
    "xdc.x2f.sheets = ['Media']"
   ]
  },
  {
   "cell_type": "code",
   "execution_count": 14,
   "metadata": {},
   "outputs": [
    {
     "data": {
      "text/plain": [
       "['Media']"
      ]
     },
     "execution_count": 14,
     "metadata": {},
     "output_type": "execute_result"
    }
   ],
   "source": [
    "xdc.x2f.sheets"
   ]
  },
  {
   "cell_type": "code",
   "execution_count": 15,
   "metadata": {},
   "outputs": [
    {
     "name": "stderr",
     "output_type": "stream",
     "text": [
      "c:\\Users\\smf12\\SPUR\\.venv\\lib\\site-packages\\openpyxl\\worksheet\\_reader.py:329: UserWarning:\n",
      "\n",
      "Data Validation extension is not supported and will be removed\n",
      "\n"
     ]
    },
    {
     "name": "stdout",
     "output_type": "stream",
     "text": [
      "Processing the welcome page...\n",
      "Welcome Page Metadata:\n",
      "Author: Gonzalo Vidal\n",
      "Email: gonzalo.vidalpena@colorado.edu\n",
      "Lab: Genetic Logic Lab\n",
      "Institution: University of Colorado Boulder\n",
      "Library Name: medias\n",
      "Description: Repository of medias\n",
      "PubId: \n",
      "Date: \n",
      "Final: False\n",
      "Domain: \n",
      "Master Collection: \n",
      "Conversion will happen with sbol version 2 as specified in the excel sheet\n",
      "Media\n"
     ]
    }
   ],
   "source": [
    "xdc.convert_to_sbol()"
   ]
  },
  {
   "cell_type": "code",
   "execution_count": 16,
   "metadata": {},
   "outputs": [
    {
     "name": "stdout",
     "output_type": "stream",
     "text": [
      "https://synbiohub.org/gonza10v/LB/1\n",
      "https://synbiohub.org/gonza10v/PBS/1\n",
      "https://synbiohub.org/gonza10v/Water/1\n"
     ]
    }
   ],
   "source": [
    "for tl in xdc.sbol_doc:\n",
    "    print(tl)"
   ]
  },
  {
   "cell_type": "code",
   "execution_count": 17,
   "metadata": {},
   "outputs": [
    {
     "data": {
      "text/plain": [
       "{}"
      ]
     },
     "execution_count": 17,
     "metadata": {},
     "output_type": "execute_result"
    }
   ],
   "source": [
    "xdc.sbol_hash_map"
   ]
  },
  {
   "cell_type": "code",
   "execution_count": 18,
   "metadata": {},
   "outputs": [],
   "source": [
    "xdc.generate_sbol_hash_map()"
   ]
  },
  {
   "cell_type": "code",
   "execution_count": 19,
   "metadata": {},
   "outputs": [
    {
     "data": {
      "text/plain": [
       "{'LB': 'https://synbiohub.org/user/synbiotest/XDC_package_test//LB/1',\n",
       " 'PBS': 'https://synbiohub.org/user/synbiotest/XDC_package_test//PBS/1',\n",
       " 'Water': 'https://synbiohub.org/user/synbiotest/XDC_package_test//Water/1'}"
      ]
     },
     "execution_count": 19,
     "metadata": {},
     "output_type": "execute_result"
    }
   ],
   "source": [
    "xdc.sbol_hash_map"
   ]
  },
  {
   "cell_type": "code",
   "execution_count": 20,
   "metadata": {},
   "outputs": [],
   "source": [
    "xdc.x2f.index_skiprows = 3"
   ]
  },
  {
   "cell_type": "code",
   "execution_count": 21,
   "metadata": {},
   "outputs": [
    {
     "data": {
      "text/plain": [
       "3"
      ]
     },
     "execution_count": 21,
     "metadata": {},
     "output_type": "execute_result"
    }
   ],
   "source": [
    "xdc.x2f.index_skiprows"
   ]
  },
  {
   "cell_type": "code",
   "execution_count": null,
   "metadata": {},
   "outputs": [],
   "source": [
    "xdc.upload_to_fj()"
   ]
  },
  {
   "cell_type": "code",
   "execution_count": 22,
   "metadata": {},
   "outputs": [
    {
     "data": {
      "text/html": [
       "<div>\n",
       "<style scoped>\n",
       "    .dataframe tbody tr th:only-of-type {\n",
       "        vertical-align: middle;\n",
       "    }\n",
       "\n",
       "    .dataframe tbody tr th {\n",
       "        vertical-align: top;\n",
       "    }\n",
       "\n",
       "    .dataframe thead th {\n",
       "        text-align: right;\n",
       "    }\n",
       "</style>\n",
       "<table border=\"1\" class=\"dataframe\">\n",
       "  <thead>\n",
       "    <tr style=\"text-align: right;\">\n",
       "      <th></th>\n",
       "    </tr>\n",
       "  </thead>\n",
       "  <tbody>\n",
       "  </tbody>\n",
       "</table>\n",
       "</div>"
      ],
      "text/plain": [
       "Empty DataFrame\n",
       "Columns: []\n",
       "Index: []"
      ]
     },
     "execution_count": 22,
     "metadata": {},
     "output_type": "execute_result"
    }
   ],
   "source": [
    "xdc.x2f.df"
   ]
  },
  {
   "cell_type": "markdown",
   "metadata": {},
   "source": []
  },
  {
   "cell_type": "code",
   "execution_count": 23,
   "metadata": {},
   "outputs": [
    {
     "data": {
      "text/plain": [
       "<sbol2.document.Document at 0x24fd07e5fa0>"
      ]
     },
     "execution_count": 23,
     "metadata": {},
     "output_type": "execute_result"
    }
   ],
   "source": [
    "xdc.sbol_doc"
   ]
  },
  {
   "cell_type": "code",
   "execution_count": 24,
   "metadata": {},
   "outputs": [
    {
     "data": {
      "text/plain": [
       "'https://synbiohub.org/user/synbiotest/XDC_package_test/XDC_package_test_collection/1'"
      ]
     },
     "execution_count": 24,
     "metadata": {},
     "output_type": "execute_result"
    }
   ],
   "source": [
    "xdc.upload_to_sbh()"
   ]
  },
  {
   "cell_type": "code",
   "execution_count": null,
   "metadata": {},
   "outputs": [],
   "source": [
    "#complete run\n",
    "\n",
    "xdc.log_in_fj()\n",
    "xdc.log_in_sbh()\n",
    "xdc.convert_to_sbol()\n",
    "xdc.x2f.sheets = ['Media']\n",
    "xdc.x2f.index_skiprows = 3\n",
    "xdc.generate_sbol_hash_map()\n",
    "xdc.upload_to_fj()\n",
    "xdc.upload_to_sbh()"
   ]
  },
  {
   "cell_type": "markdown",
   "metadata": {},
   "source": [
    "# The End"
   ]
  }
 ],
 "metadata": {
  "kernelspec": {
   "display_name": ".venv",
   "language": "python",
   "name": "python3"
  },
  "language_info": {
   "codemirror_mode": {
    "name": "ipython",
    "version": 3
   },
   "file_extension": ".py",
   "mimetype": "text/x-python",
   "name": "python",
   "nbconvert_exporter": "python",
   "pygments_lexer": "ipython3",
   "version": "3.9.13"
  }
 },
 "nbformat": 4,
 "nbformat_minor": 2
}
